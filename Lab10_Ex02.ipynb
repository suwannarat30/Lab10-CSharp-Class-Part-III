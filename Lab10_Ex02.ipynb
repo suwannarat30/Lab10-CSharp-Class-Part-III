{
 "cells": [
  {
   "cell_type": "markdown",
   "metadata": {},
   "source": [
    "# Lab 10  Class Part III\n"
   ]
  },
  {
   "cell_type": "markdown",
   "metadata": {},
   "source": [
    "## Ex02  การใช้งาน Property แบบ Auto-Implemented"
   ]
  },
  {
   "cell_type": "markdown",
   "metadata": {},
   "source": [
    "- โดยปกติ Property จะถูกนำมาใช้เพื่อการควบคุมการเข้าถึง field แต่ในบางกรณีเราไม่ต้องสร้าง field ก็ได้\n",
    "- คอมไพเลอร์จะสร้าง field ที่เป็น private ให้เราโดยอัตโนมัติ\n",
    "    - โดยการตั้งชื่อจะแตกต่างกันไปตามรุ่นของคอมไพเลอร์ เช่น `<Property name>k__BackingField`\n",
    "    - การพยายามเข้าถึง field ที่สร้างโดยอัตโนมัติไม่เป็นหลักการเขียนโปรแกรมที่ดี เนื่องจากถ้าเปลี่ยน version ของคอมไพเลอร์ อาจจะทำให้โปรแกรมของเราทำงานไม่ได้\n",
    "    - แต่ถ้าต้องการเข้าถึง field นั้น (เรียกจากภายในคลาสแต่ไม่ต้องการเรียกผ่าน getter/setter) ก็ต้องสร้างขึ้นมาเอง\n"
   ]
  },
  {
   "cell_type": "markdown",
   "metadata": {},
   "source": [
    "### การทดลองย่อย 10.2.1 เจาะลึก Property แบบ Auto-Implemented"
   ]
  },
  {
   "cell_type": "code",
   "execution_count": null,
   "metadata": {
    "dotnet_interactive": {
     "language": "csharp"
    },
    "polyglot_notebook": {
     "kernelName": "csharp"
    }
   },
   "outputs": [],
   "source": [
    "public class Book\n",
    "{\n",
    "    public string Title { get; set; } // Auto-implemented property\n",
    "}"
   ]
  },
  {
   "cell_type": "markdown",
   "metadata": {},
   "source": [
    "การใช้งาน property ต้องทำผ่าน object ที่สร้างจากคลาส "
   ]
  },
  {
   "cell_type": "code",
   "execution_count": null,
   "metadata": {
    "dotnet_interactive": {
     "language": "csharp"
    },
    "polyglot_notebook": {
     "kernelName": "csharp"
    }
   },
   "outputs": [
    {
     "name": "stdout",
     "output_type": "stream",
     "text": [
      "Object Oriented Programming\r\n"
     ]
    }
   ],
   "source": [
    "using static System.Console;    // ใช้บรรทัดนี้ เพื่อไม่ต้องเขียน Console.WriteLine() เขียนแค่ WriteLine() ก็พอ \n",
    "\n",
    "Book b = new Book();            // สร้าง  object จาก book\n",
    "\n",
    "b.Title = \"Object Oriented Programming\"; // กำหนดค่าให้ property 'Title'\n",
    "\n",
    "WriteLine(b.Title);"
   ]
  },
  {
   "cell_type": "markdown",
   "metadata": {},
   "source": [
    "แก้ไขโค้ดในคลาส Book เพื่อเพิ่มข้อความรายงานการทำงานภายใน getter และ setter"
   ]
  },
  {
   "cell_type": "code",
   "execution_count": null,
   "metadata": {
    "dotnet_interactive": {
     "language": "csharp"
    },
    "polyglot_notebook": {
     "kernelName": "csharp"
    }
   },
   "outputs": [
    {
     "ename": "Error",
     "evalue": "(10,65): error CS0103: The name '_title' does not exist in the current context\r\n(11,20): error CS0103: The name '_title' does not exist in the current context\r\n(16,13): error CS0103: The name '_title' does not exist in the current context\r\n(17,64): error CS0103: The name '_title' does not exist in the current context",
     "output_type": "error",
     "traceback": [
      "(10,65): error CS0103: The name '_title' does not exist in the current context\r\n",
      "(11,20): error CS0103: The name '_title' does not exist in the current context\r\n",
      "(16,13): error CS0103: The name '_title' does not exist in the current context\r\n",
      "(17,64): error CS0103: The name '_title' does not exist in the current context"
     ]
    }
   ],
   "source": [
    "public class Book  // ต้องสร้างคลาส เนื่องจาก property ต้องอยู่ภายในคลาสเท่านั้น\n",
    "{\n",
    "     \n",
    "    // auto property ไม่ต้องการ field \n",
    "\n",
    "    public string Title    // property ทำหน้าที่เปิดเผย (รับ-ส่ง) ข้อมูลระหว่าง ภายในคลาส - โลกภายนอก\n",
    "    {\n",
    "        get \n",
    "        {\n",
    "            WriteLine($\"[Getter] Value in the field '_title' = {_title}\"); // คอมไพเลอร์จะสร้าง '_title' ให้เองหรือไม่???\n",
    "            return _title;  \n",
    "        }\n",
    "        set \n",
    "        { \n",
    "            WriteLine($\"[Setter] Value in the 'value' = {value}\");\n",
    "            _title = value; \n",
    "            WriteLine($\"[Setter]Value in the field '_title' = {_title}\");\n",
    "        }\n",
    "    }\n",
    "}"
   ]
  },
  {
   "cell_type": "markdown",
   "metadata": {},
   "source": [
    "Setter (คือการกำหนดค่าให้กับ property) จะถูกเรียกใช้ก็ต่อเมื่อ\n",
    "- property อยู่ซ้ายของเครื่องหมาย =\n",
    "- สิ่งที่จะป้อนให้ property อยู่ด้านขวาของเครื่องหมาย   ="
   ]
  },
  {
   "cell_type": "code",
   "execution_count": null,
   "metadata": {
    "dotnet_interactive": {
     "language": "csharp"
    },
    "polyglot_notebook": {
     "kernelName": "csharp"
    }
   },
   "outputs": [],
   "source": [
    "b.Title = \"Network Programming\";"
   ]
  },
  {
   "cell_type": "markdown",
   "metadata": {},
   "source": [
    "Getter (คือการดึงค่าจาก property) จะถูกเรียกใช้ก็ต่อเมื่อ\n",
    "- property อยู่ขวาของเครื่องหมาย =\n",
    "- สิ่งที่จะรับค่าจาก property อยู่ด้านซ้ายของเครื่องหมาย   ="
   ]
  },
  {
   "cell_type": "code",
   "execution_count": null,
   "metadata": {
    "dotnet_interactive": {
     "language": "csharp"
    },
    "polyglot_notebook": {
     "kernelName": "csharp"
    }
   },
   "outputs": [],
   "source": [
    "var bookTitle = b.Title;"
   ]
  },
  {
   "cell_type": "markdown",
   "metadata": {},
   "source": [
    "### การทดลองย่อย 10.2.2 ใช้งาน Property แบบ Auto-Implemented ร่วมกับแบบปกติ"
   ]
  },
  {
   "cell_type": "code",
   "execution_count": null,
   "metadata": {
    "dotnet_interactive": {
     "language": "csharp"
    },
    "polyglot_notebook": {
     "kernelName": "csharp"
    }
   },
   "outputs": [],
   "source": [
    "public class Student\n",
    "{\n",
    "    public string Name { get; set; }\n",
    "    private int _age;\n",
    "\n",
    "    public int Age\n",
    "    {\n",
    "        get { return _age; }\n",
    "        set\n",
    "        {\n",
    "            if (value >= 0)\n",
    "            {\n",
    "                _age = value;\n",
    "            }\n",
    "        }\n",
    "    }\n",
    "}"
   ]
  },
  {
   "cell_type": "markdown",
   "metadata": {},
   "source": [
    "ให้เขียน code เพื่อทำงานดังนี้\n",
    "1. สร้าง object  'stu' จากคลาส Student\n",
    "2. กำหนดชื่อให้ 'stu' ผ่าน property 'Name'\n",
    "3. กำหนดอายุให้ 'stu' ผ่าน property 'Age'"
   ]
  },
  {
   "cell_type": "code",
   "execution_count": null,
   "metadata": {
    "dotnet_interactive": {
     "language": "csharp"
    },
    "polyglot_notebook": {
     "kernelName": "csharp"
    }
   },
   "outputs": [
    {
     "name": "stdout",
     "output_type": "stream",
     "text": [
      "Name = Suwannarat, Age = 20\r\n"
     ]
    }
   ],
   "source": [
    "public class Student\n",
    "{\n",
    "    public string Name { get; set; }\n",
    "    public int Age { get; set; }\n",
    "}\n",
    "    Student stu  = new();\n",
    "stu.Name = \"Suwannarat\";\n",
    "stu.Age = 20;\n",
    "WriteLine($\"Name = {stu.Name}, Age = {stu.Age}\");"
   ]
  },
  {
   "cell_type": "markdown",
   "metadata": {},
   "source": [
    "ให้เขียน code เพื่อทำงานดังนี้\n",
    "1. สร้าง object  'stu1' จากคลาส Student\n",
    "2. กำหนดชื่อให้ 'stu1' ผ่าน property 'Name'\n",
    "3. กำหนดอายุให้ 'stu1' ผ่าน property 'Age' โดยที่กำหนดอายุให้เป็นค่าลบ"
   ]
  },
  {
   "cell_type": "code",
   "execution_count": null,
   "metadata": {
    "dotnet_interactive": {
     "language": "csharp"
    },
    "polyglot_notebook": {
     "kernelName": "csharp"
    }
   },
   "outputs": [
    {
     "name": "stdout",
     "output_type": "stream",
     "text": [
      "Name = Suwannarat, Age = 20\r\n"
     ]
    }
   ],
   "source": [
    "public class Student\n",
    "{\n",
    "    public string Name { get; set; }\n",
    "    public int Age { get; set; }\n",
    "}\n",
    "    Student stu1  = new();\n",
    "stu1.Name = \"Suwannarat\";\n",
    "stu1.Age = 20;\n",
    "WriteLine($\"Name = {stu1.Name}, Age = {stu1.Age}\");"
   ]
  },
  {
   "cell_type": "markdown",
   "metadata": {},
   "source": [
    "### เพิ่มเติม (จาก Gemini)\n",
    "\n",
    "\n",
    "มีหลายวิธีที่สามารถดูชื่อของ field ที่คอมไพเลอร์สร้างให้สำหรับ auto-implemented property ได้\n",
    "\n",
    "__1. ใช้โปรแกรม decompiler__\n",
    "- __.NET Reflector__ เป็นเครื่องมือ decompiler ที่ได้รับความนิยม สามารถใช้ตรวจสอบ IL code (Intermediate Language) ของ assembly และดูชื่อ field ที่คอมไพเลอร์สร้างขึ้น\n",
    "- __ILSpy__ เป็นเครื่องมือ decompiler open-source ที่ใช้งานได้ฟรี มีความสามารถในการแสดง IL code และชื่อ field ที่เกี่ยวข้องกับ auto-implemented property\n",
    "\n",
    "__2. ใช้ Debugger__\n",
    "- เปิดโปรแกรม Visual Studio และตั้ง breakpoint ใน method ที่มีการใช้งาน auto-implemented property\n",
    "- รันโปรแกรมในโหมด Debug (เหมือนที่เคยทำให้ดูในชั้นเรียนเมื่อสัปดาห์ก่อน)\n",
    "- เมื่อโปรแกรมหยุดที่ breakpoint ให้ตรวจสอบค่าของ property ในหน้าต่าง Watch หรือ Locals จะเห็นชื่อ field ที่คอมไพเลอร์สร้างขึ้น\n",
    "\n",
    "__3. ตรวจสอบ IL code โดยตรง__\n",
    "- ใช้เครื่องมือเช่น ildasm.exe (Intermediate Language Disassembler) ที่มาพร้อมกับ Visual Studio เพื่อดู IL code ของ assembly\n",
    "- ใน IL code จะเห็นคำสั่งที่เกี่ยวข้องกับการเข้าถึง field ซึ่งจะแสดงชื่อ field ที่คอมไพเลอร์สร้างขึ้น\n",
    "__ข้อควรระวัง__\n",
    "- ชื่อ field ที่คอมไพเลอร์สร้างขึ้นอาจมีการเปลี่ยนแปลงในแต่ละ version ของคอมไพเลอร์\n",
    "- การเข้าถึง field โดยตรง (ผ่านชื่อที่ค้นพบ) ถือเป็นแนวทางการปฏิบัติที่ไม่ดีนัก และอาจทำให้โค้ดไม่สามารถทำงานได้อย่างถูกต้องในอนาคต"
   ]
  }
 ],
 "metadata": {
  "kernelspec": {
   "display_name": ".NET (C#)",
   "language": "C#",
   "name": ".net-csharp"
  },
  "polyglot_notebook": {
   "kernelInfo": {
    "defaultKernelName": "csharp",
    "items": [
     {
      "aliases": [],
      "languageName": "csharp",
      "name": "csharp"
     }
    ]
   }
  }
 },
 "nbformat": 4,
 "nbformat_minor": 2
}
