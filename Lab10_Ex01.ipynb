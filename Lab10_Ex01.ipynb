{
 "cells": [
  {
   "cell_type": "markdown",
   "metadata": {},
   "source": [
    "# Lab 10  Class Part III\n"
   ]
  },
  {
   "cell_type": "markdown",
   "metadata": {},
   "source": [
    "## Ex01  การใช้งาน Property พื้นฐาน (get/set)"
   ]
  },
  {
   "cell_type": "code",
   "execution_count": null,
   "metadata": {
    "dotnet_interactive": {
     "language": "csharp"
    },
    "polyglot_notebook": {
     "kernelName": "csharp"
    }
   },
   "outputs": [],
   "source": [
    "public class Book  // ต้องสร้างคลาส เนื่องจาก property ต้องอยู่ภายในคลาสเท่านั้น\n",
    "{\n",
    "    private string _title; // field ที่เป็นตัวเก็บข้อมูล ควรมี modifier เป็น private\n",
    "\n",
    "    public string Title    // property ทำหน้าที่เปิดเผย (รับ-ส่ง) ข้อมูลระหว่าง ภายในคลาส - โลกภายนอก\n",
    "    {\n",
    "        get { return _title; }\n",
    "        set { _title = value; }\n",
    "    }\n",
    "}"
   ]
  },
  {
   "cell_type": "markdown",
   "metadata": {},
   "source": [
    "การใช้งาน property ต้องทำผ่าน object ที่สร้างจากคลาส \n",
    "\n",
    "__ใน polyglot notebook ถ้าเรียกใช้ class จากต่าง code cell ต้องรัน code cell ของคลาสนั้นก่อนเสมอ__"
   ]
  },
  {
   "cell_type": "code",
   "execution_count": null,
   "metadata": {
    "dotnet_interactive": {
     "language": "csharp"
    },
    "polyglot_notebook": {
     "kernelName": "csharp"
    }
   },
   "outputs": [
    {
     "name": "stdout",
     "output_type": "stream",
     "text": [
      "Object Oriented Programming\r\n"
     ]
    }
   ],
   "source": [
    "using static System.Console;    // ใช้บรรทัดนี้ เพื่อไม่ต้องเขียน Console.WriteLine() เขียนแค่ WriteLine() ก็พอ \n",
    "\n",
    "Book b = new Book();            // สร้าง  object จาก book\n",
    "\n",
    "b.Title = \"Object Oriented Programming\"; // กำหนดค่าให้ property 'Title'\n",
    "\n",
    "WriteLine(b.Title);"
   ]
  },
  {
   "cell_type": "markdown",
   "metadata": {},
   "source": [
    "### เจาะลึกการทำงานของ property"
   ]
  },
  {
   "cell_type": "markdown",
   "metadata": {},
   "source": [
    "แก้ไขโค้ดในคลาส Book เพื่อเพิ่มข้อความรายงานการทำงานภายใน getter และ setter"
   ]
  },
  {
   "cell_type": "code",
   "execution_count": null,
   "metadata": {
    "dotnet_interactive": {
     "language": "csharp"
    },
    "polyglot_notebook": {
     "kernelName": "csharp"
    }
   },
   "outputs": [],
   "source": [
    "public class Book  // ต้องสร้างคลาส เนื่องจาก property ต้องอยู่ภายในคลาสเท่านั้น\n",
    "{\n",
    "    private string _title; // field ที่เป็นตัวเก็บข้อมูล ควรมี modifier เป็น private\n",
    "\n",
    "    public string Title    // property ทำหน้าที่เปิดเผย (รับ-ส่ง) ข้อมูลระหว่าง ภายในคลาส - โลกภายนอก\n",
    "    {\n",
    "        get \n",
    "        {\n",
    "            WriteLine($\"[Getter] Value in the field '_title' = {_title}\");\n",
    "            return _title; \n",
    "        }\n",
    "        set \n",
    "        { \n",
    "            WriteLine($\"[Setter] Value in the 'value' = {value}\");\n",
    "            _title = value; \n",
    "            WriteLine($\"[Setter]Value in the field '_title' = {_title}\");\n",
    "        }\n",
    "    }\n",
    "}"
   ]
  },
  {
   "cell_type": "code",
   "execution_count": null,
   "metadata": {
    "dotnet_interactive": {
     "language": "csharp"
    },
    "polyglot_notebook": {
     "kernelName": "csharp"
    }
   },
   "outputs": [
    {
     "name": "stdout",
     "output_type": "stream",
     "text": [
      "[Main] Operator = will call the setter\n",
      "[Setter] Value in the 'value' = Object Oriented Programming\n",
      "[Setter]Value in the field '_title' = Object Oriented Programming\n",
      "\n",
      "[Main] WriteLine will call the getter\n",
      "[Getter] Value in the field '_title' = Object Oriented Programming\n",
      "Object Oriented Programming\n"
     ]
    }
   ],
   "source": [
    "Book b = new Book();            // สร้าง  object จาก book\n",
    "\n",
    "\n",
    "WriteLine($\"[Main] Operator = will call the setter\");\n",
    "b.Title = \"Object Oriented Programming\"; // กำหนดค่าให้ property 'Title'\n",
    "\n",
    "\n",
    "WriteLine($\"\\n[Main] WriteLine will call the getter\");\n",
    "WriteLine(b.Title);\n"
   ]
  },
  {
   "cell_type": "markdown",
   "metadata": {},
   "source": [
    "Setter (คือการกำหนดค่าให้กับ property) จะถูกเรียกใช้ก็ต่อเมื่อ\n",
    "- property อยู่ซ้ายของเครื่องหมาย =\n",
    "- สิ่งที่จะป้อนให้ property อยู่ด้านขวาของเครื่องหมาย   ="
   ]
  },
  {
   "cell_type": "code",
   "execution_count": null,
   "metadata": {
    "dotnet_interactive": {
     "language": "csharp"
    },
    "polyglot_notebook": {
     "kernelName": "csharp"
    }
   },
   "outputs": [
    {
     "name": "stdout",
     "output_type": "stream",
     "text": [
      "[Setter] Value in the 'value' = Network Programming\n",
      "[Setter]Value in the field '_title' = Network Programming\n"
     ]
    }
   ],
   "source": [
    "b.Title = \"Network Programming\";"
   ]
  },
  {
   "cell_type": "markdown",
   "metadata": {},
   "source": [
    "Getter (คือการดึงค่าจาก property) จะถูกเรียกใช้ก็ต่อเมื่อ\n",
    "- property อยู่ขวาของเครื่องหมาย =\n",
    "- สิ่งที่จะรับค่าจาก property อยู่ด้านซ้ายของเครื่องหมาย   ="
   ]
  },
  {
   "cell_type": "code",
   "execution_count": null,
   "metadata": {
    "dotnet_interactive": {
     "language": "csharp"
    },
    "polyglot_notebook": {
     "kernelName": "csharp"
    }
   },
   "outputs": [
    {
     "name": "stdout",
     "output_type": "stream",
     "text": [
      "[Getter] Value in the field '_title' = Network Programming\r\n"
     ]
    }
   ],
   "source": [
    "var bookTitle = b.Title;"
   ]
  }
 ],
 "metadata": {
  "kernelspec": {
   "display_name": ".NET (C#)",
   "language": "C#",
   "name": ".net-csharp"
  },
  "polyglot_notebook": {
   "kernelInfo": {
    "defaultKernelName": "csharp",
    "items": [
     {
      "aliases": [],
      "languageName": "csharp",
      "name": "csharp"
     }
    ]
   }
  }
 },
 "nbformat": 4,
 "nbformat_minor": 2
}
