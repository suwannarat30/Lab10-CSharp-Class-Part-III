{
 "cells": [
  {
   "cell_type": "markdown",
   "metadata": {},
   "source": [
    "# Lab 10  Class Part III\n"
   ]
  },
  {
   "cell_type": "markdown",
   "metadata": {},
   "source": [
    "## Ex04  การตรวจสอบค่าที่กำหนดให้กับ Property"
   ]
  },
  {
   "cell_type": "markdown",
   "metadata": {},
   "source": [
    "### การทดลองย่อย 10.4.1 ตรวจสอบช่วงของค่า"
   ]
  },
  {
   "cell_type": "code",
   "execution_count": null,
   "metadata": {
    "dotnet_interactive": {
     "language": "csharp"
    },
    "polyglot_notebook": {
     "kernelName": "csharp"
    }
   },
   "outputs": [],
   "source": [
    "public class Score\n",
    "{\n",
    "    private int _value;\n",
    "\n",
    "    public int Value\n",
    "    {\n",
    "        get { return _value; }\n",
    "        set\n",
    "        {\n",
    "            if (value >= 0 && value <= 100)\n",
    "            {\n",
    "                _value = value;\n",
    "            }\n",
    "            else\n",
    "            {\n",
    "                throw new ArgumentOutOfRangeException(\"Score must be between 0 and 100.\");\n",
    "            }\n",
    "        }\n",
    "    }\n",
    "}"
   ]
  },
  {
   "cell_type": "markdown",
   "metadata": {},
   "source": [
    "ให้เขียน code เพื่อทำงานดังนี้\n",
    "1. สร้าง object จากคลาส Score\n",
    "2. กำหนดคะแนนในช่วงปกติ\n",
    "3. แสดงคะแนนที่เก็บใน object "
   ]
  },
  {
   "cell_type": "code",
   "execution_count": null,
   "metadata": {
    "dotnet_interactive": {
     "language": "csharp"
    },
    "polyglot_notebook": {
     "kernelName": "csharp"
    }
   },
   "outputs": [
    {
     "data": {
      "text/html": [
       "<div class=\"dni-plaintext\"><pre>70</pre></div><style>\r\n",
       ".dni-code-hint {\r\n",
       "    font-style: italic;\r\n",
       "    overflow: hidden;\r\n",
       "    white-space: nowrap;\r\n",
       "}\r\n",
       ".dni-treeview {\r\n",
       "    white-space: nowrap;\r\n",
       "}\r\n",
       ".dni-treeview td {\r\n",
       "    vertical-align: top;\r\n",
       "    text-align: start;\r\n",
       "}\r\n",
       "details.dni-treeview {\r\n",
       "    padding-left: 1em;\r\n",
       "}\r\n",
       "table td {\r\n",
       "    text-align: start;\r\n",
       "}\r\n",
       "table tr { \r\n",
       "    vertical-align: top; \r\n",
       "    margin: 0em 0px;\r\n",
       "}\r\n",
       "table tr td pre \r\n",
       "{ \r\n",
       "    vertical-align: top !important; \r\n",
       "    margin: 0em 0px !important;\r\n",
       "} \r\n",
       "table th {\r\n",
       "    text-align: start;\r\n",
       "}\r\n",
       "</style>"
      ]
     },
     "metadata": {},
     "output_type": "display_data"
    }
   ],
   "source": [
    "Score sc = new();\n",
    "sc.Value = 70;\n",
    "sc.Value        // เราสามารถเรียกดูค่าโดยไม่ต้องใช้ Console.WriteLine()  แต่ต้องอยู่บรรทุดสุดท้ายเพียงบรทัดเดียว และต้องไม่ใส่ ; ท้ายคำสั่ง \n"
   ]
  },
  {
   "cell_type": "markdown",
   "metadata": {},
   "source": [
    "ให้เขียน code เพื่อทำงานดังนี้\n",
    "1. สร้าง object จากคลาส Score\n",
    "2. กำหนดคะแนนผิดปกติ (เป็นค่าลบ)\n",
    "3. แสดงคะแนนที่เก็บใน object "
   ]
  },
  {
   "cell_type": "code",
   "execution_count": null,
   "metadata": {
    "dotnet_interactive": {
     "language": "csharp"
    },
    "polyglot_notebook": {
     "kernelName": "csharp"
    }
   },
   "outputs": [
    {
     "data": {
      "text/html": [
       "<div class=\"dni-plaintext\"><pre>79</pre></div><style>\r\n",
       ".dni-code-hint {\r\n",
       "    font-style: italic;\r\n",
       "    overflow: hidden;\r\n",
       "    white-space: nowrap;\r\n",
       "}\r\n",
       ".dni-treeview {\r\n",
       "    white-space: nowrap;\r\n",
       "}\r\n",
       ".dni-treeview td {\r\n",
       "    vertical-align: top;\r\n",
       "    text-align: start;\r\n",
       "}\r\n",
       "details.dni-treeview {\r\n",
       "    padding-left: 1em;\r\n",
       "}\r\n",
       "table td {\r\n",
       "    text-align: start;\r\n",
       "}\r\n",
       "table tr { \r\n",
       "    vertical-align: top; \r\n",
       "    margin: 0em 0px;\r\n",
       "}\r\n",
       "table tr td pre \r\n",
       "{ \r\n",
       "    vertical-align: top !important; \r\n",
       "    margin: 0em 0px !important;\r\n",
       "} \r\n",
       "table th {\r\n",
       "    text-align: start;\r\n",
       "}\r\n",
       "</style>"
      ]
     },
     "metadata": {},
     "output_type": "display_data"
    }
   ],
   "source": [
    "public class Score\n",
    "{\n",
    "    private int _value;\n",
    "\n",
    "    public int Value\n",
    "    {\n",
    "        get { return _value; }\n",
    "        set\n",
    "        {\n",
    "            if (value >= 0 && value <= 100)\n",
    "            {\n",
    "                _value = value;\n",
    "            }\n",
    "            else\n",
    "            {\n",
    "                throw new ArgumentOutOfRangeException(\"Score must be between 0 and 100.\");\n",
    "            }\n",
    "        }\n",
    "    }\n",
    "}\n",
    "Score lab = new();\n",
    "lab.Value = 79;\n",
    "lab.Value         \n"
   ]
  },
  {
   "cell_type": "markdown",
   "metadata": {},
   "source": [
    "### การทดลองย่อย 10.4.2 ตรวจสอบรูปแบบของ String (Regular Expression)"
   ]
  },
  {
   "cell_type": "markdown",
   "metadata": {},
   "source": [
    "Regular Expression หรือ Regex คือรูปแบบที่ใช้ในการจับคู่ข้อความ ชุดของอักขระ หรือโทเค็น\n",
    "\n",
    "รูปแบบเหล่านี้ใช้ในการค้นหาและจัดการข้อความ เช่น การตรวจสอบว่าผู้ใช้ป้อนอีเมลในรูปแบบที่ถูกต้องหรือไม่ หรือการแยกคำสำคัญออกจากบทความ\n",
    "\n",
    "Regular Expression มีประโยชน์อย่างมากในการทำงานกับข้อความ เพราะช่วยให้เราสามารถกำหนดรูปแบบที่ซับซ้อนได้อย่างยืดหยุ่น\n",
    "\n",
    "#### ตัวอย่างการใช้งาน\n",
    "- ตรวจสอบรูปแบบอีเมล\n",
    "- ค้นหาคำที่ขึ้นต้นด้วยตัวอักษร \"A\"\n",
    "- แยกหมายเลขโทรศัพท์ออกจากข้อความ\n",
    "- แทนที่คำบางคำในข้อความ\n",
    "\n",
    "#### หลักการทำงาน\n",
    "Regular Expression ประกอบด้วยตัวอักษรและสัญลักษณ์พิเศษที่ใช้ในการกำหนดรูปแบบ\n",
    "\n",
    "|Expression|ความหมาย|\n",
    "|----------|--------|\n",
    "|ตัวอักษร| จับคู่ตัวอักษรนั้นๆ โดยตรง|\n",
    "|. (จุด)| จับคู่ตัวอักษรใดๆ ก็ได้|\n",
    "|*| จับคู่สิ่งที่อยู่ข้างหน้า 0 ครั้งหรือมากกว่า|\n",
    "|+| จับคู่สิ่งที่อยู่ข้างหน้า 1 ครั้งหรือมากกว่า|\n",
    "|?| จับคู่สิ่งที่อยู่ข้างหน้า 0 หรือ 1 ครั้ง|\n",
    "|[]| จับคู่ตัวอักษรใดๆ ที่อยู่ในวงเล็บ|\n",
    "|()| จับกลุ่มของรูปแบบ|\n",
    "\n",
    "#### ตัวอย่าง Regex\n",
    "\n",
    "|รูปแบบ|Regular Expression|\n",
    "|-----|-----|\n",
    "|ตรวจสอบรูปแบบอีเมล|^[a-zA-Z0-9._%+-]+@[a-zA-Z0-9.-]+\\.[a-zA-Z]{2,}$|\n",
    "|ค้นหาคำที่ขึ้นต้นด้วยตัวอักษร \"A\"|\\bA\\w+\\b|\n",
    "|ตรวจสอบหมายเลขโทรศัพท์ในรูปแบบ XXX-XXX-XXXX|\\bA\\w+\\b|\\d{3}-\\d{3}-\\d{4}|"
   ]
  },
  {
   "cell_type": "code",
   "execution_count": null,
   "metadata": {
    "dotnet_interactive": {
     "language": "csharp"
    },
    "polyglot_notebook": {
     "kernelName": "csharp"
    }
   },
   "outputs": [],
   "source": [
    "using System.Text.RegularExpressions;\n",
    "\n",
    "public class Email\n",
    "{\n",
    "    private string _address;\n",
    "\n",
    "    public string Address\n",
    "    {\n",
    "        get { return _address; }\n",
    "        set\n",
    "        {\n",
    "            if (IsValidEmail(value))\n",
    "            {\n",
    "                _address = value;\n",
    "            }\n",
    "            else\n",
    "            {\n",
    "                throw new ArgumentException(\"Invalid email address.\");\n",
    "            }\n",
    "        }\n",
    "    }\n",
    "\n",
    "    private bool IsValidEmail(string value)   // ตรวจสอบรูปแบบโดยใช้ Regular Expressions\n",
    "    {\n",
    "        string pattern = @\"^[a-zA-Z0-9._%+-]+@[a-zA-Z0-9.-]+\\.[a-zA-Z]{2,}$\";\n",
    "        return Regex.IsMatch(value, pattern);\n",
    "    }\n",
    "}\n"
   ]
  },
  {
   "cell_type": "markdown",
   "metadata": {},
   "source": [
    "ให้เขียน code เพื่อทำงานดังนี้\n",
    "1. สร้าง object จากคลาส Email\n",
    "2. กำหนด Email ที่ __ถูกต้อง__\n",
    "3. แสดง email address ที่เก็บใน object "
   ]
  },
  {
   "cell_type": "code",
   "execution_count": null,
   "metadata": {
    "dotnet_interactive": {
     "language": "csharp"
    },
    "polyglot_notebook": {
     "kernelName": "csharp"
    }
   },
   "outputs": [
    {
     "name": "stdout",
     "output_type": "stream",
     "text": [
      "66030196@kmitl.ac.th\r\n"
     ]
    }
   ],
   "source": [
    "using System.Text.RegularExpressions;\n",
    "\n",
    "public class Email\n",
    "{\n",
    "    private string _address;\n",
    "\n",
    "    public string Address\n",
    "    {\n",
    "        get => _address;\n",
    "        set\n",
    "        {\n",
    "            if (IsValidEmail(value))\n",
    "            {\n",
    "                _address = value;\n",
    "            }\n",
    "            else\n",
    "            {\n",
    "                throw new ArgumentException(\"Invalid email address.\");\n",
    "            }\n",
    "        }\n",
    "    }\n",
    "\n",
    "    private bool IsValidEmail(string value) // ตรวจสอบรูปแบบโดยใช้ Regular Expressions\n",
    "    {\n",
    "        string pattern = @\"^[a-zA-Z0-9._%+-]+@[a-zA-Z0-9.-]+\\.[a-zA-Z]{2,}$\";\n",
    "        return Regex.IsMatch(value, pattern);\n",
    "    }\n",
    "}\n",
    "        Email email = new Email();\n",
    "        email.Address = \"66030196@kmitl.ac.th\"; // กำหนดค่า Email ที่ถูกต้อง\n",
    "        Console.WriteLine(email.Address); // แสดง Email ที่เก็บใน object"
   ]
  },
  {
   "cell_type": "markdown",
   "metadata": {},
   "source": [
    "ให้เขียน code เพื่อทำงานดังนี้\n",
    "1. สร้าง object จากคลาส Email\n",
    "2. กำหนด Email ที่ __ไม่__ ถูกต้อง\n",
    "3. แสดง email address ที่เก็บใน object "
   ]
  },
  {
   "cell_type": "code",
   "execution_count": null,
   "metadata": {
    "dotnet_interactive": {
     "language": "csharp"
    },
    "polyglot_notebook": {
     "kernelName": "csharp"
    }
   },
   "outputs": [
    {
     "name": "stdout",
     "output_type": "stream",
     "text": [
      "Invalid email address.\r\n"
     ]
    }
   ],
   "source": [
    "using System.Text.RegularExpressions;\n",
    "\n",
    "public class Email\n",
    "{\n",
    "    private string _address;\n",
    "\n",
    "    public string Address\n",
    "    {\n",
    "        get => _address;\n",
    "        set\n",
    "        {\n",
    "            if (IsValidEmail(value))\n",
    "            {\n",
    "                _address = value;\n",
    "            }\n",
    "            else\n",
    "            {\n",
    "                throw new ArgumentException(\"Invalid email address.\");\n",
    "            }\n",
    "        }\n",
    "    }\n",
    "\n",
    "    private bool IsValidEmail(string value) // ตรวจสอบรูปแบบโดยใช้ Regular Expressions\n",
    "    {\n",
    "        string pattern = @\"^[a-zA-Z0-9._%+-]+@[a-zA-Z0-9.-]+\\.[a-zA-Z]{2,}$\";\n",
    "        return Regex.IsMatch(value, pattern);\n",
    "    }\n",
    "}\n",
    "        try\n",
    "        {\n",
    "            Email email = new Email();\n",
    "            email.Address = \"66030178.kmitl.ac.th\"; // กำหนดค่า Email ที่ไม่ถูกต้อง\n",
    "            Console.WriteLine(email.Address); // แสดง Email ที่เก็บใน object\n",
    "        }\n",
    "        catch (ArgumentException ex)\n",
    "        {\n",
    "            Console.WriteLine(ex.Message); // แสดงข้อความข้อผิดพลาด\n",
    "        }"
   ]
  },
  {
   "cell_type": "markdown",
   "metadata": {},
   "source": [
    "### การทดลองย่อย 10.4.3 ตรวจสอบค่า Null หรือ Empty ของ string"
   ]
  },
  {
   "cell_type": "code",
   "execution_count": null,
   "metadata": {
    "dotnet_interactive": {
     "language": "csharp"
    },
    "polyglot_notebook": {
     "kernelName": "csharp"
    }
   },
   "outputs": [],
   "source": [
    "public class Name\n",
    "{\n",
    "    private string _firstName;\n",
    "\n",
    "    public string FirstName\n",
    "    {\n",
    "        get { return _firstName; }\n",
    "        set\n",
    "        {\n",
    "            if (!string.IsNullOrEmpty(value))\n",
    "            {\n",
    "                _firstName = value;\n",
    "            }\n",
    "            else\n",
    "            {\n",
    "                throw new ArgumentNullException(\"First name cannot be null or empty.\");\n",
    "            }\n",
    "        }\n",
    "    }\n",
    "}"
   ]
  },
  {
   "cell_type": "markdown",
   "metadata": {},
   "source": [
    "ให้เขียน code เพื่อทำงานดังนี้\n",
    "1. สร้าง object จากคลาส Name\n",
    "2. กำหนดชื่อที่ถูกต้องให้กับ  object.FirstName  \n",
    "3. แสดง  object.FirstName \n",
    "\n",
    "(อย่าลืมรัน code cell ด้านบนก่อน มิฉะนัันจะไม้สามารถใช้งานคลาส Name ได้)"
   ]
  },
  {
   "cell_type": "code",
   "execution_count": null,
   "metadata": {
    "dotnet_interactive": {
     "language": "csharp"
    },
    "polyglot_notebook": {
     "kernelName": "csharp"
    }
   },
   "outputs": [
    {
     "data": {
      "text/plain": [
       "Donale"
      ]
     },
     "metadata": {},
     "output_type": "display_data"
    }
   ],
   "source": [
    "Name man = new Name();\n",
    "man.FirstName = \"Donale\";\n",
    "man.FirstName"
   ]
  },
  {
   "cell_type": "code",
   "execution_count": null,
   "metadata": {},
   "outputs": [
    {
     "name": "stdout",
     "output_type": "stream",
     "text": [
      "Suwannarat\r\n"
     ]
    }
   ],
   "source": [
    "using System;\n",
    "\n",
    "public class Name\n",
    "{\n",
    "    private string _firstName;\n",
    "\n",
    "    public string FirstName\n",
    "    {\n",
    "        get => _firstName;\n",
    "        set\n",
    "        {\n",
    "            if (!string.IsNullOrEmpty(value))\n",
    "            {\n",
    "                _firstName = value;\n",
    "            }\n",
    "            else\n",
    "            {\n",
    "                throw new ArgumentNullException(\"First name cannot be null or empty.\");\n",
    "            }\n",
    "        }\n",
    "    }\n",
    "}\n",
    "        Name obj = new Name();\n",
    "        obj.FirstName = \"Suwannarat\"; // กำหนดชื่อที่ถูกต้องให้กับ FirstName\n",
    "        Console.WriteLine(obj.FirstName); // แสดงค่า FirstName"
   ]
  },
  {
   "cell_type": "markdown",
   "metadata": {},
   "source": [
    "ให้เขียน code เพื่อทำงานดังนี้\n",
    "1. สร้าง object จากคลาส Name\n",
    "2. กำหนด object.FirstName เป็น string.Empty\n",
    "3. แสดง  object.FirstName"
   ]
  },
  {
   "cell_type": "code",
   "execution_count": null,
   "metadata": {
    "dotnet_interactive": {
     "language": "csharp"
    },
    "polyglot_notebook": {
     "kernelName": "csharp"
    }
   },
   "outputs": [
    {
     "name": "stdout",
     "output_type": "stream",
     "text": [
      "Value cannot be null. (Parameter 'First name cannot be null or empty.')\r\n"
     ]
    }
   ],
   "source": [
    "public class Name\n",
    "{\n",
    "    private string _firstName;\n",
    "\n",
    "    public string FirstName\n",
    "    {\n",
    "        get => _firstName;\n",
    "        set\n",
    "        {\n",
    "            if (!string.IsNullOrEmpty(value))\n",
    "            {\n",
    "                _firstName = value;\n",
    "            }\n",
    "            else\n",
    "            {\n",
    "                throw new ArgumentNullException(\"First name cannot be null or empty.\");\n",
    "            }\n",
    "        }\n",
    "    }\n",
    "}\n",
    "        try\n",
    "        {\n",
    "            Name obj = new Name();\n",
    "            obj.FirstName = string.Empty; // กำหนดค่าเป็น string.Empty\n",
    "            Console.WriteLine(obj.FirstName); // แสดงค่า FirstName\n",
    "        }\n",
    "        catch (ArgumentNullException ex)\n",
    "        {\n",
    "            Console.WriteLine(ex.Message); // แสดงข้อความข้อผิดพลาด\n",
    "        }"
   ]
  },
  {
   "cell_type": "markdown",
   "metadata": {},
   "source": [
    "ให้เขียน code เพื่อทำงานดังนี้\n",
    "1. สร้าง object จากคลาส Name\n",
    "2. แสดง object.FirstName  โดยไม่ต้องกำหนดค่าใดๆ ให้ FirstName"
   ]
  },
  {
   "cell_type": "code",
   "execution_count": null,
   "metadata": {
    "dotnet_interactive": {
     "language": "csharp"
    },
    "polyglot_notebook": {
     "kernelName": "csharp"
    }
   },
   "outputs": [
    {
     "ename": "Error",
     "evalue": "System.ArgumentNullException: Value cannot be null. (Parameter 'First name cannot be null or empty.')\r\n   at Submission#23.Name.set_FirstName(String value)\r\n   at Submission#24.<<Initialize>>d__0.MoveNext()\r\n--- End of stack trace from previous location ---\r\n   at Microsoft.CodeAnalysis.Scripting.ScriptExecutionState.RunSubmissionsAsync[TResult](ImmutableArray`1 precedingExecutors, Func`2 currentExecutor, StrongBox`1 exceptionHolderOpt, Func`2 catchExceptionOpt, CancellationToken cancellationToken)",
     "output_type": "error",
     "traceback": [
      "System.ArgumentNullException: Value cannot be null. (Parameter 'First name cannot be null or empty.')\r\n",
      "   at Submission#23.Name.set_FirstName(String value)\r\n",
      "   at Submission#24.<<Initialize>>d__0.MoveNext()\r\n",
      "--- End of stack trace from previous location ---\r\n",
      "   at Microsoft.CodeAnalysis.Scripting.ScriptExecutionState.RunSubmissionsAsync[TResult](ImmutableArray`1 precedingExecutors, Func`2 currentExecutor, StrongBox`1 exceptionHolderOpt, Func`2 catchExceptionOpt, CancellationToken cancellationToken)"
     ]
    }
   ],
   "source": [
    "Name man = new Name();\n",
    "man.FirstName = string.Empty;\n",
    "man.FirstName"
   ]
  },
  {
   "cell_type": "code",
   "execution_count": null,
   "metadata": {},
   "outputs": [
    {
     "name": "stdout",
     "output_type": "stream",
     "text": [
      "\r\n"
     ]
    }
   ],
   "source": [
    "using System;\n",
    "\n",
    "public class Name\n",
    "{\n",
    "    private string _firstName;\n",
    "\n",
    "    public string FirstName\n",
    "    {\n",
    "        get => _firstName;\n",
    "        set\n",
    "        {\n",
    "            if (!string.IsNullOrEmpty(value))\n",
    "            {\n",
    "                _firstName = value;\n",
    "            }\n",
    "            else\n",
    "            {\n",
    "                throw new ArgumentNullException(\"First name cannot be null or empty.\");\n",
    "            }\n",
    "        }\n",
    "    }\n",
    "}\n",
    "\n",
    "        Name obj = new Name();\n",
    "        Console.WriteLine(obj.FirstName); // แสดงค่า FirstName โดยไม่กำหนดค่าใดๆ"
   ]
  }
 ],
 "metadata": {
  "kernelspec": {
   "display_name": ".NET (C#)",
   "language": "C#",
   "name": ".net-csharp"
  },
  "polyglot_notebook": {
   "kernelInfo": {
    "defaultKernelName": "csharp",
    "items": [
     {
      "aliases": [],
      "languageName": "csharp",
      "name": "csharp"
     }
    ]
   }
  }
 },
 "nbformat": 4,
 "nbformat_minor": 2
}
