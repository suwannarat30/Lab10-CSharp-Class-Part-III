{
 "cells": [
  {
   "cell_type": "markdown",
   "metadata": {},
   "source": [
    "# Lab 10  Class Part III\n"
   ]
  },
  {
   "cell_type": "markdown",
   "metadata": {},
   "source": [
    "## Ex03  การใช้งาน Property พร้อม Backing Field และการตรวจสอบค่า"
   ]
  },
  {
   "cell_type": "markdown",
   "metadata": {},
   "source": [
    "ในการใช้งานวัตถุบางประเภท อาจจะต้องมีการตรวจสอบค่าหรือสถานะปัจจุบันของวัตถุนั้น ถ้าค่าที่ป้อนเข้าไปใหม่ตรงกับค่าที่เป็นปัจจุบัน ก็ไม่ต้องมีการดำเนินการเปลี่ยนแปลง\n",
    "- ถ้าหลอดไฟเปิดอยู่ ก็ไม่ต้องเปิดซ้ำ\n",
    "- ถ้ากำลังดาวน์โหลดไฟล์นั้นอยู่ ก็ไม่ต้องเริ่มดาวน์โหลดอีกรอบ\n",
    "- ถ้าค่าที่ป้อนเข้ามาไม่อยู่ในขอบเขตของ field ที่กำหนด ก็ไม่ต้องเขียนลงไปใน field\n",
    "\n",
    "นับเป็นการควบคุมความปลอดภัยและเพิ่มประสิทธิภาพในการทำงานของคลาสได้"
   ]
  },
  {
   "cell_type": "markdown",
   "metadata": {},
   "source": [
    "### การทดลองย่อย 10.3.1 Backing Field ทั่วไป"
   ]
  },
  {
   "cell_type": "code",
   "execution_count": null,
   "metadata": {
    "dotnet_interactive": {
     "language": "csharp"
    },
    "polyglot_notebook": {
     "kernelName": "csharp"
    }
   },
   "outputs": [],
   "source": [
    "public class Person\n",
    "{\n",
    "    private string _name;\n",
    "\n",
    "    public string Name\n",
    "    {\n",
    "        get { return _name; }\n",
    "        set { _name = value; }\n",
    "    }\n",
    "}"
   ]
  },
  {
   "cell_type": "markdown",
   "metadata": {},
   "source": [
    "ให้เขียน code เพื่อทำงานดังนี้\n",
    "1. สร้าง object  'p' จากคลาส Person\n",
    "2. กำหนดชื่อให้ 'p' ผ่าน property 'Name'\n",
    "3. แสดงชื่อของ p โดยเมธอด WriteLine()"
   ]
  },
  {
   "cell_type": "code",
   "execution_count": null,
   "metadata": {
    "dotnet_interactive": {
     "language": "csharp"
    },
    "polyglot_notebook": {
     "kernelName": "csharp"
    }
   },
   "outputs": [
    {
     "name": "stdout",
     "output_type": "stream",
     "text": [
      "Suwannarat\r\n"
     ]
    }
   ],
   "source": [
    "using static System.Console;\n",
    "\n",
    "Person p = new();\n",
    "p.Name = \"Suwannarat\";\n",
    "WriteLine(p.Name);  // p._name ได้หรือไม่ ถ้าไม่ได้ แก้ไขให้ถูกต้อง"
   ]
  },
  {
   "cell_type": "markdown",
   "metadata": {},
   "source": [
    "### การทดลองย่อย 10.3.2 Backing Field พร้อมการตรวจสอบค่า"
   ]
  },
  {
   "cell_type": "code",
   "execution_count": null,
   "metadata": {
    "dotnet_interactive": {
     "language": "csharp"
    },
    "polyglot_notebook": {
     "kernelName": "csharp"
    }
   },
   "outputs": [],
   "source": [
    "public class Lamp\n",
    "{\n",
    "    private bool _isOn; // backing field \n",
    "\n",
    "    public bool IsOn\n",
    "    {\n",
    "        get { return _isOn; } \n",
    "        set\n",
    "        {\n",
    "            if (value) \n",
    "            {\n",
    "                _isOn = value; \n",
    "            }\n",
    "        }\n",
    "    }\n",
    "}"
   ]
  },
  {
   "cell_type": "markdown",
   "metadata": {},
   "source": [
    "การใช้งาน (ต้องรัน code cell ด้านบนก่อน)"
   ]
  },
  {
   "cell_type": "code",
   "execution_count": null,
   "metadata": {
    "dotnet_interactive": {
     "language": "csharp"
    },
    "polyglot_notebook": {
     "kernelName": "csharp"
    }
   },
   "outputs": [
    {
     "name": "stdout",
     "output_type": "stream",
     "text": [
      "True\r\n"
     ]
    }
   ],
   "source": [
    "Lamp myLamp = new Lamp();\n",
    "\n",
    "// เปิดไฟ\n",
    "myLamp.IsOn = true;\n",
    "Console.WriteLine(myLamp.IsOn); // Output: True"
   ]
  },
  {
   "cell_type": "code",
   "execution_count": null,
   "metadata": {
    "dotnet_interactive": {
     "language": "csharp"
    },
    "polyglot_notebook": {
     "kernelName": "csharp"
    }
   },
   "outputs": [
    {
     "name": "stdout",
     "output_type": "stream",
     "text": [
      "True\r\n"
     ]
    }
   ],
   "source": [
    "myLamp.IsOn = false; // พยายามปิดไฟ  แต่ไม่มีผล เนื่องจาก property นี้จะรับเฉพาะค่า true เท่านั้น \n",
    "Console.WriteLine(myLamp.IsOn); // Output: True"
   ]
  },
  {
   "cell_type": "markdown",
   "metadata": {},
   "source": [
    "### การทดลองย่อย 10.3.2 Backing Field พร้อมการตรวจสอบค่า"
   ]
  },
  {
   "cell_type": "markdown",
   "metadata": {},
   "source": [
    "```csharp\n",
    "public class Product\n",
    "{\n",
    "    private decimal _price;\n",
    "\n",
    "    public decimal Price\n",
    "    {\n",
    "        get { return _price; }\n",
    "        set\n",
    "        {\n",
    "            if (value >= 0)\n",
    "            {\n",
    "                _price = value;\n",
    "            }\n",
    "        }\n",
    "    }\n",
    "}\n",
    "```"
   ]
  },
  {
   "cell_type": "markdown",
   "metadata": {},
   "source": [
    "ให้เขียน code เพื่อทำงานดังนี้\n",
    "1. สร้าง object  จากคลาส Product\n",
    "2. กำหนดค่าให้กับ Produbt.Price โดยให้ค่าไม่น้อยกว่า 0 \n",
    "3. แสดง  Produbt.Price  โดยเมธอด WriteLine()"
   ]
  },
  {
   "cell_type": "code",
   "execution_count": null,
   "metadata": {
    "dotnet_interactive": {
     "language": "csharp"
    },
    "polyglot_notebook": {
     "kernelName": "csharp"
    }
   },
   "outputs": [
    {
     "name": "stdout",
     "output_type": "stream",
     "text": [
      "9\r\n"
     ]
    }
   ],
   "source": [
    "// พื้นที่เขียน code\n",
    "public class Product\n",
    "{\n",
    "    private decimal _price;\n",
    "\n",
    "    public decimal Price\n",
    "    {\n",
    "        get { return _price; }\n",
    "        set\n",
    "        {\n",
    "            if (value >= 0)\n",
    "            {\n",
    "                _price = value;\n",
    "            }\n",
    "        }\n",
    "    }\n",
    "}\n",
    "\n",
    "        Product product = new();\n",
    "        product.Price = 9; // กำหนดค่า Price ไม่น้อยกว่า 0\n",
    "        WriteLine(product.Price);"
   ]
  },
  {
   "cell_type": "markdown",
   "metadata": {},
   "source": [
    "ให้เขียน code เพื่อทำงานดังนี้\n",
    "1. สร้าง object  จากคลาส Product\n",
    "2. กำหนดค่าให้กับ Produbt.Price โดยให้ค่าเป็นลบ \n",
    "3. แสดง  Produbt.Price  โดยเมธอด WriteLine()\n",
    "// พื้นที่เขียน code"
   ]
  },
  {
   "cell_type": "code",
   "execution_count": null,
   "metadata": {
    "dotnet_interactive": {
     "language": "csharp"
    },
    "polyglot_notebook": {
     "kernelName": "csharp"
    }
   },
   "outputs": [
    {
     "name": "stdout",
     "output_type": "stream",
     "text": [
      "-5\r\n"
     ]
    }
   ],
   "source": [
    "// พื้นที่เขียน code\n",
    "public class Product\n",
    "{\n",
    "    private decimal _price;\n",
    "\n",
    "    public decimal Price\n",
    "    {\n",
    "        get { return _price; }\n",
    "        set\n",
    "        {\n",
    "            if (value <= 0)\n",
    "            {\n",
    "                _price = value;\n",
    "            }\n",
    "        }\n",
    "    }\n",
    "}\n",
    "\n",
    "        Product product = new();\n",
    "        product.Price = -5; // กำหนดค่า Price น้อยกว่า 0\n",
    "        WriteLine(product.Price);"
   ]
  },
  {
   "cell_type": "markdown",
   "metadata": {},
   "source": [
    "### การทดลองย่อย 10.3.4 Backing Field ในรูปแบบที่ซับซ้อนขึ้น"
   ]
  },
  {
   "cell_type": "code",
   "execution_count": null,
   "metadata": {
    "dotnet_interactive": {
     "language": "csharp"
    },
    "polyglot_notebook": {
     "kernelName": "csharp"
    }
   },
   "outputs": [
    {
     "name": "stdout",
     "output_type": "stream",
     "text": [
      "5  is odd? : True\n",
      "5  is even? : False\n"
     ]
    }
   ],
   "source": [
    "public class Countable\n",
    "{\n",
    "    private int _number;\n",
    "\n",
    "    public int Number  \n",
    "    {\n",
    "        get\n",
    "        { \n",
    "            return _number;\n",
    "        }\n",
    "        set\n",
    "        {\n",
    "            if (value > 0)\n",
    "            {\n",
    "                _number = value;\n",
    "            }\n",
    "        }\n",
    "    }\n",
    "\n",
    "    public bool IsOdd // property แบบ อ่านได้อย่างเดียว มีแต่ setter ไม่มี getter\n",
    "    { \n",
    "        get\n",
    "        {\n",
    "            if(_number % 2 == 0)\n",
    "            return false;\n",
    "            else\n",
    "            return true;\n",
    "        }\n",
    "    }\n",
    "\n",
    "    public bool IsEven // property แบบ อ่านได้อย่างเดียว มีแต่ setter ไม่มี getter\n",
    "    { \n",
    "        get\n",
    "        {\n",
    "            return !IsOdd;\n",
    "        }\n",
    "    }\n",
    "\n",
    "}\n",
    "\n",
    "Countable number = new Countable();\n",
    "number.Number = 5;\n",
    "Console.WriteLine($\"{number.Number}  is odd? : {number.IsOdd}\");\n",
    "Console.WriteLine($\"{number.Number}  is even? : {number.IsEven}\");\n"
   ]
  },
  {
   "cell_type": "markdown",
   "metadata": {},
   "source": [
    "---\n"
   ]
  },
  {
   "cell_type": "markdown",
   "metadata": {},
   "source": [
    "## การสร้างเลขสุ่ม"
   ]
  },
  {
   "cell_type": "code",
   "execution_count": null,
   "metadata": {},
   "outputs": [
    {
     "name": "stdout",
     "output_type": "stream",
     "text": [
      "1032035649\n",
      "9204\n",
      "5\n"
     ]
    }
   ],
   "source": [
    "Random random = new Random();\n",
    "Console.WriteLine(random.Next());\n",
    "Console.WriteLine(random.Next()%10000);\n",
    "Console.WriteLine(random.Next()%100);"
   ]
  },
  {
   "cell_type": "markdown",
   "metadata": {},
   "source": [
    "### Challenge coding \n",
    "\n",
    "__จากตัวอย่างด้านบน__\n",
    "\n",
    "1. สร้าง object จากคลาส Countable\n",
    "2. ใส่ตัวเลขแบบสุ่ม (จากคลาส Random)\n",
    "3. ให้แสดงว่าตัวเลขนั้นเป็นเลขคี่หรือเลขคู่"
   ]
  },
  {
   "cell_type": "code",
   "execution_count": null,
   "metadata": {},
   "outputs": [
    {
     "name": "stdout",
     "output_type": "stream",
     "text": [
      "1341772151 is odd? : True\n",
      "1341772151 is even? : False\n"
     ]
    }
   ],
   "source": [
    "public class Countable\n",
    "{\n",
    "    private int _number;\n",
    "\n",
    "    public int Number\n",
    "    {\n",
    "        get => _number;\n",
    "        set\n",
    "        {\n",
    "            if (value > 0)\n",
    "                _number = value;\n",
    "        }\n",
    "    }\n",
    "\n",
    "    public bool IsOdd => _number % 2 != 0;\n",
    "    public bool IsEven => !IsOdd;\n",
    "}\n",
    "        Random random = new Random();\n",
    "        Countable number = new Countable();\n",
    "        number.Number = random.Next();\n",
    "\n",
    "        Console.WriteLine($\"{number.Number} is odd? : {number.IsOdd}\");\n",
    "        Console.WriteLine($\"{number.Number} is even? : {number.IsEven}\");"
   ]
  }
 ],
 "metadata": {
  "kernelspec": {
   "display_name": ".NET (C#)",
   "language": "C#",
   "name": ".net-csharp"
  },
  "polyglot_notebook": {
   "kernelInfo": {
    "defaultKernelName": "csharp",
    "items": [
     {
      "aliases": [],
      "languageName": "csharp",
      "name": "csharp"
     }
    ]
   }
  }
 },
 "nbformat": 4,
 "nbformat_minor": 2
}
